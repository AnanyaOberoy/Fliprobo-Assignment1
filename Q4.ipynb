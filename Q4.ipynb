{
 "cells": [
  {
   "cell_type": "markdown",
   "id": "d1581a86",
   "metadata": {},
   "source": [
    "4) Write s python program to display list of respected former presidents of India(i.e. Name , Term of office)\n",
    "from https://presidentofindia.nic.in/former-presidents.htm"
   ]
  },
  {
   "cell_type": "code",
   "execution_count": 2,
   "id": "05bdbcb7",
   "metadata": {},
   "outputs": [
    {
     "data": {
      "text/plain": [
       "<Response [200]>"
      ]
     },
     "execution_count": 2,
     "metadata": {},
     "output_type": "execute_result"
    }
   ],
   "source": [
    "# Importing the important libraries.\n",
    "\n",
    "from bs4 import BeautifulSoup\n",
    "import requests\n",
    "import re\n",
    "\n",
    "# Download IMDB's Top 100 data\n",
    "presidents_url = 'https://presidentofindia.nic.in/former-presidents.htm/reviews'\n",
    "resp = requests.get(presidents_url)\n",
    "resp\n"
   ]
  },
  {
   "cell_type": "code",
   "execution_count": 3,
   "id": "08ad5377",
   "metadata": {},
   "outputs": [
    {
     "data": {
      "text/plain": [
       "b'<html><p><hr></hr></p><b><center>The Problem may be due to 500 Server Error/404 Page Not Found.Please contact your system administrator.</center></b><p><hr></hr></p></html><!--0123456789012345678901234567890123456789012345678901234567890123456789012345678901234567890123456789012345678901234567890123456789012345678901234567890123456789012345678901234567890123456789012345678901234567890123456789012345678901234567890123456789012345678901234567890123456789012345678901234567890123456789012345678901234567890123456789012345678901234567890123456789012345678901234567890123456789012345678901234567890123456789012345678901234567890123456789012345678901234567890123456789012345678901234-->\\r\\n'"
      ]
     },
     "execution_count": 3,
     "metadata": {},
     "output_type": "execute_result"
    }
   ],
   "source": [
    "#Check the response\n",
    "resp.content"
   ]
  },
  {
   "cell_type": "code",
   "execution_count": 4,
   "id": "6df46cd2",
   "metadata": {},
   "outputs": [
    {
     "data": {
      "text/plain": [
       "<html><body><p></p><hr/><b></b><center>The Problem may be due to 500 Server Error/404 Page Not Found.Please contact your system administrator.</center><p></p><hr/></body></html><!--0123456789012345678901234567890123456789012345678901234567890123456789012345678901234567890123456789012345678901234567890123456789012345678901234567890123456789012345678901234567890123456789012345678901234567890123456789012345678901234567890123456789012345678901234567890123456789012345678901234567890123456789012345678901234567890123456789012345678901234567890123456789012345678901234567890123456789012345678901234567890123456789012345678901234567890123456789012345678901234567890123456789012345678901234-->"
      ]
     },
     "execution_count": 4,
     "metadata": {},
     "output_type": "execute_result"
    }
   ],
   "source": [
    "# Using Soup\n",
    "soup1 = BeautifulSoup(resp.content)\n",
    "soup1"
   ]
  },
  {
   "cell_type": "code",
   "execution_count": 5,
   "id": "bb19d13c",
   "metadata": {},
   "outputs": [
    {
     "name": "stdout",
     "output_type": "stream",
     "text": [
      "<html>\n",
      " <body>\n",
      "  <p>\n",
      "  </p>\n",
      "  <hr/>\n",
      "  <b>\n",
      "  </b>\n",
      "  <center>\n",
      "   The Problem may be due to 500 Server Error/404 Page Not Found.Please contact your system administrator.\n",
      "  </center>\n",
      "  <p>\n",
      "  </p>\n",
      "  <hr/>\n",
      " </body>\n",
      "</html>\n",
      "<!--0123456789012345678901234567890123456789012345678901234567890123456789012345678901234567890123456789012345678901234567890123456789012345678901234567890123456789012345678901234567890123456789012345678901234567890123456789012345678901234567890123456789012345678901234567890123456789012345678901234567890123456789012345678901234567890123456789012345678901234567890123456789012345678901234567890123456789012345678901234567890123456789012345678901234567890123456789012345678901234567890123456789012345678901234-->\n",
      "\n"
     ]
    }
   ],
   "source": [
    "# Declaring the structured data in prettify()\n",
    "print(soup1.prettify())\n"
   ]
  },
  {
   "cell_type": "code",
   "execution_count": 6,
   "id": "ecdd7f00",
   "metadata": {},
   "outputs": [
    {
     "data": {
      "text/plain": [
       "[]"
      ]
     },
     "execution_count": 6,
     "metadata": {},
     "output_type": "execute_result"
    }
   ],
   "source": [
    "presidents = soup1.find_all('h4', class_='italic')\n",
    "presidents"
   ]
  },
  {
   "cell_type": "code",
   "execution_count": 8,
   "id": "4e391fcc",
   "metadata": {},
   "outputs": [
    {
     "data": {
      "text/plain": [
       "[]"
      ]
     },
     "execution_count": 8,
     "metadata": {},
     "output_type": "execute_result"
    }
   ],
   "source": [
    "presidents_name = []\n",
    "for i in presidents:\n",
    "    presidents_name.append(i.text)\n",
    "presidents_name[:5]"
   ]
  },
  {
   "cell_type": "code",
   "execution_count": 9,
   "id": "b13ccc52",
   "metadata": {},
   "outputs": [
    {
     "data": {
      "text/plain": [
       "[]"
      ]
     },
     "execution_count": 9,
     "metadata": {},
     "output_type": "execute_result"
    }
   ],
   "source": [
    "presidents_name = []\n",
    "for i in presidents:\n",
    "    presidents_name.append(i.text.replace('\\n',''))\n",
    "presidents_name[:5]"
   ]
  },
  {
   "cell_type": "code",
   "execution_count": 11,
   "id": "9c5dfb98",
   "metadata": {},
   "outputs": [
    {
     "data": {
      "text/plain": [
       "[]"
      ]
     },
     "execution_count": 11,
     "metadata": {},
     "output_type": "execute_result"
    }
   ],
   "source": [
    "Office = soup1.find_all('p', class_ = 'Team of office')\n",
    "Office"
   ]
  },
  {
   "cell_type": "code",
   "execution_count": 13,
   "id": "296d9a32",
   "metadata": {},
   "outputs": [
    {
     "data": {
      "text/plain": [
       "[]"
      ]
     },
     "execution_count": 13,
     "metadata": {},
     "output_type": "execute_result"
    }
   ],
   "source": [
    "Office_name = []\n",
    "for i in Office:\n",
    "    Office_name.append(i.text)\n",
    "Office_name[:5]"
   ]
  },
  {
   "cell_type": "code",
   "execution_count": 14,
   "id": "7e5f933a",
   "metadata": {},
   "outputs": [
    {
     "data": {
      "text/plain": [
       "[]"
      ]
     },
     "execution_count": 14,
     "metadata": {},
     "output_type": "execute_result"
    }
   ],
   "source": [
    "Office_name = []\n",
    "for i in Office:\n",
    "    Office_name.append(i.text.replace('\\n',''))\n",
    "Office_name[:5]"
   ]
  },
  {
   "cell_type": "code",
   "execution_count": 16,
   "id": "fbedec79",
   "metadata": {},
   "outputs": [
    {
     "data": {
      "text/plain": [
       "[]"
      ]
     },
     "execution_count": 16,
     "metadata": {},
     "output_type": "execute_result"
    }
   ],
   "source": [
    "Team_office = soup1.find_all('p', class_ = 'Team of office')\n",
    "Team_office"
   ]
  },
  {
   "cell_type": "code",
   "execution_count": 18,
   "id": "fefc3af5",
   "metadata": {},
   "outputs": [
    {
     "data": {
      "text/plain": [
       "[]"
      ]
     },
     "execution_count": 18,
     "metadata": {},
     "output_type": "execute_result"
    }
   ],
   "source": [
    "Team_office = []\n",
    "for i in Team_office:\n",
    "    Team_office.append(i.text)\n",
    "Team_office[:5]"
   ]
  },
  {
   "cell_type": "code",
   "execution_count": 19,
   "id": "c8aae2c5",
   "metadata": {},
   "outputs": [
    {
     "data": {
      "text/plain": [
       "[]"
      ]
     },
     "execution_count": 19,
     "metadata": {},
     "output_type": "execute_result"
    }
   ],
   "source": [
    "Team_office = []\n",
    "for i in Team_office:\n",
    "    Team_office.append(i.text.replace('\\n',''))\n",
    "Team_office[:5]"
   ]
  },
  {
   "cell_type": "code",
   "execution_count": 20,
   "id": "54c57a09",
   "metadata": {},
   "outputs": [
    {
     "data": {
      "text/plain": [
       "[]"
      ]
     },
     "execution_count": 20,
     "metadata": {},
     "output_type": "execute_result"
    }
   ],
   "source": [
    "review = soup1.find_all('p', class_ = 'excerpt')\n",
    "review\n"
   ]
  },
  {
   "cell_type": "code",
   "execution_count": 21,
   "id": "bd3af599",
   "metadata": {},
   "outputs": [
    {
     "data": {
      "text/plain": [
       "[]"
      ]
     },
     "execution_count": 21,
     "metadata": {},
     "output_type": "execute_result"
    }
   ],
   "source": [
    "presidents_review = []\n",
    "for i in review:\n",
    "    presidents_review.append(i.text)\n",
    "presidents_review[:5]"
   ]
  },
  {
   "cell_type": "code",
   "execution_count": 22,
   "id": "cf8874a4",
   "metadata": {},
   "outputs": [
    {
     "data": {
      "text/plain": [
       "[]"
      ]
     },
     "execution_count": 22,
     "metadata": {},
     "output_type": "execute_result"
    }
   ],
   "source": [
    "presidents_review = []\n",
    "for i in review:\n",
    "    presidents_review.append(i.text.replace('\\n',''))\n",
    "presidents_review[:5]"
   ]
  },
  {
   "cell_type": "code",
   "execution_count": 28,
   "id": "0cdbddd1",
   "metadata": {},
   "outputs": [
    {
     "data": {
      "text/html": [
       "<div>\n",
       "<style scoped>\n",
       "    .dataframe tbody tr th:only-of-type {\n",
       "        vertical-align: middle;\n",
       "    }\n",
       "\n",
       "    .dataframe tbody tr th {\n",
       "        vertical-align: top;\n",
       "    }\n",
       "\n",
       "    .dataframe thead th {\n",
       "        text-align: right;\n",
       "    }\n",
       "</style>\n",
       "<table border=\"1\" class=\"dataframe\">\n",
       "  <thead>\n",
       "    <tr style=\"text-align: right;\">\n",
       "      <th></th>\n",
       "      <th>presidents_Name</th>\n",
       "      <th>Team_Office</th>\n",
       "      <th>presidents_review</th>\n",
       "    </tr>\n",
       "  </thead>\n",
       "  <tbody>\n",
       "  </tbody>\n",
       "</table>\n",
       "</div>"
      ],
      "text/plain": [
       "Empty DataFrame\n",
       "Columns: [presidents_Name, Team_Office, presidents_review]\n",
       "Index: []"
      ]
     },
     "execution_count": 28,
     "metadata": {},
     "output_type": "execute_result"
    }
   ],
   "source": [
    "import pandas as pd\n",
    "presidents_df = pd.DataFrame({})\n",
    "presidents_df['presidents_Name'] = presidents_name\n",
    "presidents_df['Team_Office'] = Office\n",
    "presidents_df['Team_Office'] = Team_office\n",
    "presidents_df['presidents_review'] = presidents_review\n",
    "\n",
    "\n",
    "presidents_df[:5]\n"
   ]
  },
  {
   "cell_type": "code",
   "execution_count": null,
   "id": "1f983fa5",
   "metadata": {},
   "outputs": [],
   "source": []
  }
 ],
 "metadata": {
  "kernelspec": {
   "display_name": "Python 3 (ipykernel)",
   "language": "python",
   "name": "python3"
  },
  "language_info": {
   "codemirror_mode": {
    "name": "ipython",
    "version": 3
   },
   "file_extension": ".py",
   "mimetype": "text/x-python",
   "name": "python",
   "nbconvert_exporter": "python",
   "pygments_lexer": "ipython3",
   "version": "3.9.12"
  }
 },
 "nbformat": 4,
 "nbformat_minor": 5
}
